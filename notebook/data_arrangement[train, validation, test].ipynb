{
 "cells": [
  {
   "cell_type": "code",
   "execution_count": 1,
   "id": "champion-vietnamese",
   "metadata": {},
   "outputs": [],
   "source": [
    "import os\n",
    "import shutil\n",
    "import random\n",
    "import glob"
   ]
  },
  {
   "cell_type": "code",
   "execution_count": 7,
   "id": "understood-settle",
   "metadata": {
    "scrolled": true
   },
   "outputs": [
    {
     "data": {
      "text/plain": [
       "'./../data'"
      ]
     },
     "execution_count": 7,
     "metadata": {},
     "output_type": "execute_result"
    }
   ],
   "source": [
    "os.path.dirname('./../data/')"
   ]
  },
  {
   "cell_type": "code",
   "execution_count": 8,
   "id": "recreational-pennsylvania",
   "metadata": {
    "scrolled": false
   },
   "outputs": [
    {
     "data": {
      "text/plain": [
       "['n02085620-Chihuahua',\n",
       " 'n02085782-Japanese_spaniel',\n",
       " 'n02085936-Maltese_dog',\n",
       " 'n02086079-Pekinese',\n",
       " 'n02086240-Shih-Tzu',\n",
       " 'n02086646-Blenheim_spaniel',\n",
       " 'n02086910-papillon',\n",
       " 'n02087046-toy_terrier',\n",
       " 'n02087394-Rhodesian_ridgeback',\n",
       " 'n02088094-Afghan_hound',\n",
       " 'n02088238-basset',\n",
       " 'n02088364-beagle',\n",
       " 'n02088466-bloodhound',\n",
       " 'n02088632-bluetick',\n",
       " 'n02089078-black-and-tan_coonhound',\n",
       " 'n02089867-Walker_hound',\n",
       " 'n02089973-English_foxhound',\n",
       " 'n02090379-redbone',\n",
       " 'n02090622-borzoi',\n",
       " 'n02090721-Irish_wolfhound',\n",
       " 'n02091032-Italian_greyhound',\n",
       " 'n02091134-whippet',\n",
       " 'n02091244-Ibizan_hound',\n",
       " 'n02091467-Norwegian_elkhound',\n",
       " 'n02091635-otterhound',\n",
       " 'n02091831-Saluki',\n",
       " 'n02092002-Scottish_deerhound',\n",
       " 'n02092339-Weimaraner',\n",
       " 'n02093256-Staffordshire_bullterrier',\n",
       " 'n02093428-American_Staffordshire_terrier',\n",
       " 'n02093647-Bedlington_terrier',\n",
       " 'n02093754-Border_terrier',\n",
       " 'n02093859-Kerry_blue_terrier',\n",
       " 'n02093991-Irish_terrier',\n",
       " 'n02094114-Norfolk_terrier',\n",
       " 'n02094258-Norwich_terrier',\n",
       " 'n02094433-Yorkshire_terrier',\n",
       " 'n02095314-wire-haired_fox_terrier',\n",
       " 'n02095570-Lakeland_terrier',\n",
       " 'n02095889-Sealyham_terrier',\n",
       " 'n02096051-Airedale',\n",
       " 'n02096177-cairn',\n",
       " 'n02096294-Australian_terrier',\n",
       " 'n02096437-Dandie_Dinmont',\n",
       " 'n02096585-Boston_bull',\n",
       " 'n02097047-miniature_schnauzer',\n",
       " 'n02097130-giant_schnauzer',\n",
       " 'n02097209-standard_schnauzer',\n",
       " 'n02097298-Scotch_terrier',\n",
       " 'n02097474-Tibetan_terrier',\n",
       " 'n02097658-silky_terrier',\n",
       " 'n02098105-soft-coated_wheaten_terrier',\n",
       " 'n02098286-West_Highland_white_terrier',\n",
       " 'n02098413-Lhasa',\n",
       " 'n02099267-flat-coated_retriever',\n",
       " 'n02099429-curly-coated_retriever',\n",
       " 'n02099601-golden_retriever',\n",
       " 'n02099712-Labrador_retriever',\n",
       " 'n02099849-Chesapeake_Bay_retriever',\n",
       " 'n02100236-German_short-haired_pointer',\n",
       " 'n02100583-vizsla',\n",
       " 'n02100735-English_setter',\n",
       " 'n02100877-Irish_setter',\n",
       " 'n02101006-Gordon_setter',\n",
       " 'n02101388-Brittany_spaniel',\n",
       " 'n02101556-clumber',\n",
       " 'n02102040-English_springer',\n",
       " 'n02102177-Welsh_springer_spaniel',\n",
       " 'n02102318-cocker_spaniel',\n",
       " 'n02102480-Sussex_spaniel',\n",
       " 'n02102973-Irish_water_spaniel',\n",
       " 'n02104029-kuvasz',\n",
       " 'n02104365-schipperke',\n",
       " 'n02105056-groenendael',\n",
       " 'n02105162-malinois',\n",
       " 'n02105251-briard',\n",
       " 'n02105412-kelpie',\n",
       " 'n02105505-komondor',\n",
       " 'n02105641-Old_English_sheepdog',\n",
       " 'n02105855-Shetland_sheepdog',\n",
       " 'n02106030-collie',\n",
       " 'n02106166-Border_collie',\n",
       " 'n02106382-Bouvier_des_Flandres',\n",
       " 'n02106550-Rottweiler',\n",
       " 'n02106662-German_shepherd',\n",
       " 'n02107142-Doberman',\n",
       " 'n02107312-miniature_pinscher',\n",
       " 'n02107574-Greater_Swiss_Mountain_dog',\n",
       " 'n02107683-Bernese_mountain_dog',\n",
       " 'n02107908-Appenzeller',\n",
       " 'n02108000-EntleBucher',\n",
       " 'n02108089-boxer',\n",
       " 'n02108422-bull_mastiff',\n",
       " 'n02108551-Tibetan_mastiff',\n",
       " 'n02108915-French_bulldog',\n",
       " 'n02109047-Great_Dane',\n",
       " 'n02109525-Saint_Bernard',\n",
       " 'n02109961-Eskimo_dog',\n",
       " 'n02110063-malamute',\n",
       " 'n02110185-Siberian_husky',\n",
       " 'n02110627-affenpinscher',\n",
       " 'n02110806-basenji',\n",
       " 'n02110958-pug',\n",
       " 'n02111129-Leonberg',\n",
       " 'n02111277-Newfoundland',\n",
       " 'n02111500-Great_Pyrenees',\n",
       " 'n02111889-Samoyed',\n",
       " 'n02112018-Pomeranian',\n",
       " 'n02112137-chow',\n",
       " 'n02112350-keeshond',\n",
       " 'n02112706-Brabancon_griffon',\n",
       " 'n02113023-Pembroke',\n",
       " 'n02113186-Cardigan',\n",
       " 'n02113624-toy_poodle',\n",
       " 'n02113712-miniature_poodle',\n",
       " 'n02113799-standard_poodle',\n",
       " 'n02113978-Mexican_hairless',\n",
       " 'n02115641-dingo',\n",
       " 'n02115913-dhole',\n",
       " 'n02116738-African_hunting_dog']"
      ]
     },
     "execution_count": 8,
     "metadata": {},
     "output_type": "execute_result"
    }
   ],
   "source": [
    "os.listdir('../data/')"
   ]
  }
 ],
 "metadata": {
  "kernelspec": {
   "display_name": "Python 3",
   "language": "python",
   "name": "python3"
  },
  "language_info": {
   "codemirror_mode": {
    "name": "ipython",
    "version": 3
   },
   "file_extension": ".py",
   "mimetype": "text/x-python",
   "name": "python",
   "nbconvert_exporter": "python",
   "pygments_lexer": "ipython3",
   "version": "3.7.0"
  }
 },
 "nbformat": 4,
 "nbformat_minor": 5
}
