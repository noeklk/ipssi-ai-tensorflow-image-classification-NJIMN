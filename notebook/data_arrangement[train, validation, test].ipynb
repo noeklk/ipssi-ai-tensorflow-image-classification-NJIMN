{
 "cells": [
  {
   "cell_type": "code",
   "execution_count": 3,
   "id": "champion-vietnamese",
   "metadata": {},
   "outputs": [],
   "source": [
    "import os\n",
    "import shutil\n",
    "import random\n",
    "import glob"
   ]
  },
  {
   "cell_type": "code",
   "execution_count": 4,
   "id": "sublime-measure",
   "metadata": {},
   "outputs": [],
   "source": [
    "os.chdir('../data')"
   ]
  },
  {
   "cell_type": "code",
   "execution_count": 5,
   "id": "developmental-rocket",
   "metadata": {},
   "outputs": [],
   "source": [
    "race_dirs = os.listdir('./valid')"
   ]
  },
  {
   "cell_type": "code",
   "execution_count": 11,
   "id": "powered-particle",
   "metadata": {},
   "outputs": [],
   "source": [
    "for i in race_dirs:\n",
    "    os.makedirs('train/' + i)\n",
    "    os.makedirs('test/' + i)\n",
    "    os.makedirs('valid/' + i)"
   ]
  },
  {
   "cell_type": "code",
   "execution_count": 13,
   "id": "covered-spell",
   "metadata": {},
   "outputs": [],
   "source": [
    "train_path ='train'\n",
    "valid_path='valid'\n",
    "test_path='test'"
   ]
  },
  {
   "cell_type": "code",
   "execution_count": 26,
   "id": "tested-america",
   "metadata": {},
   "outputs": [],
   "source": [
    "for u in race_dirs:\n",
    "    total_by_folder = len(os.listdir('base/' + u))\n",
    "    \n",
    "    for i in random.sample(glob.glob('base/' + u + '/*'), round(total_by_folder * 0.80)):\n",
    "        shutil.move(i, 'train/' + u)\n",
    "        \n",
    "    for i in random.sample(glob.glob('base/' + u + '/*'), total_by_folder):\n",
    "        shutil.move(i, 'valid/' + u) "
   ]
  },
  {
   "cell_type": "markdown",
   "id": "interstate-guyana",
   "metadata": {},
   "source": [
    "## Insertion donnée de test"
   ]
  },
  {
   "cell_type": "code",
   "execution_count": 6,
   "id": "pretty-split",
   "metadata": {},
   "outputs": [],
   "source": [
    "for u in race_dirs:\n",
    "    total_by_folder = len(os.listdir('valid/' + u))\n",
    "    \n",
    "    for i in random.sample(glob.glob('valid/' + u + '/*'), total_by_folder):\n",
    "        shutil.copy(i, 'test/' + u)\n",
    "        "
   ]
  }
 ],
 "metadata": {
  "kernelspec": {
   "display_name": "Python 3",
   "language": "python",
   "name": "python3"
  },
  "language_info": {
   "codemirror_mode": {
    "name": "ipython",
    "version": 3
   },
   "file_extension": ".py",
   "mimetype": "text/x-python",
   "name": "python",
   "nbconvert_exporter": "python",
   "pygments_lexer": "ipython3",
   "version": "3.7.0"
  }
 },
 "nbformat": 4,
 "nbformat_minor": 5
}
